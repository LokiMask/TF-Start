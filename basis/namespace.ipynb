{
 "cells": [
  {
   "cell_type": "markdown",
   "metadata": {},
   "source": [
    "## 命名空间管理"
   ]
  },
  {
   "cell_type": "code",
   "execution_count": 1,
   "metadata": {},
   "outputs": [],
   "source": [
    "import warnings\n",
    "warnings.filterwarnings('ignore')\n",
    "\n",
    "import tensorflow as tf\n",
    "sess = tf.Session()"
   ]
  },
  {
   "cell_type": "markdown",
   "metadata": {},
   "source": [
    "### 1.使用tf.Variable()和tf.get_variable()创建变量"
   ]
  },
  {
   "cell_type": "markdown",
   "metadata": {},
   "source": [
    "#### 1.1 使用tf.variable 创建，如名称一样则自动处理"
   ]
  },
  {
   "cell_type": "code",
   "execution_count": 2,
   "metadata": {},
   "outputs": [],
   "source": [
    "v1 = tf.Variable(initial_value=[1.0], name='v')\n",
    "v2 = tf.Variable(initial_value=[2.0], name='v')\n",
    "v3 = tf.Variable(initial_value=[1.0, 2.0], name='v')"
   ]
  },
  {
   "cell_type": "code",
   "execution_count": 3,
   "metadata": {},
   "outputs": [
    {
     "name": "stdout",
     "output_type": "stream",
     "text": [
      "v1 <tf.Variable 'v:0' shape=(1,) dtype=float32_ref>\n",
      "v2 <tf.Variable 'v_1:0' shape=(1,) dtype=float32_ref>\n",
      "v3 <tf.Variable 'v_2:0' shape=(2,) dtype=float32_ref>\n"
     ]
    }
   ],
   "source": [
    "print(\"v1\", v1)\n",
    "print(\"v2\", v2)\n",
    "print(\"v3\", v3)"
   ]
  },
  {
   "cell_type": "markdown",
   "metadata": {},
   "source": [
    "#### 1.2 使用tf.get_variable创建变量，不能用一样的name"
   ]
  },
  {
   "cell_type": "code",
   "execution_count": 4,
   "metadata": {},
   "outputs": [],
   "source": [
    "gv1 = tf.get_variable(name='gv', shape=[2,3], initializer=tf.truncated_normal_initializer())"
   ]
  },
  {
   "cell_type": "markdown",
   "metadata": {},
   "source": [
    "非要使用一样name，需要结合tf.variable_scope&reuse"
   ]
  },
  {
   "cell_type": "markdown",
   "metadata": {},
   "source": [
    "#### 1.3 tf.Varibale()和tf.get_variable 同时创建变量，会自动处理"
   ]
  },
  {
   "cell_type": "code",
   "execution_count": 5,
   "metadata": {},
   "outputs": [
    {
     "name": "stdout",
     "output_type": "stream",
     "text": [
      "var1 <tf.Variable 'var:0' shape=(1,) dtype=float32_ref>\n",
      "var2 <tf.Variable 'var_1:0' shape=(2, 3) dtype=float32_ref>\n",
      "var3 <tf.Variable 'var_2:0' shape=(1,) dtype=float32_ref>\n"
     ]
    }
   ],
   "source": [
    "var1 = tf.Variable(initial_value=[1.0], name='var', trainable=False)\n",
    "var2 = tf.get_variable(name='var', shape=[2,3])\n",
    "var3 = tf.Variable(initial_value=[1.0], name='var')\n",
    "# var4 = tf.get_variable(name='var', shape=[2,3])  # 报错\n",
    "print('var1', var1)\n",
    "print('var2', var2)\n",
    "print('var3', var3)"
   ]
  },
  {
   "cell_type": "markdown",
   "metadata": {},
   "source": [
    "#### 1.4使用tf.placeholder()创建占位符"
   ]
  },
  {
   "cell_type": "code",
   "execution_count": 6,
   "metadata": {},
   "outputs": [
    {
     "name": "stdout",
     "output_type": "stream",
     "text": [
      "ph1: Tensor(\"ph:0\", shape=(1, 3), dtype=float32)\n",
      "ph2: Tensor(\"ph_1:0\", shape=(2, 3), dtype=float32)\n"
     ]
    }
   ],
   "source": [
    "ph1 = tf.placeholder(dtype=tf.float32, shape=[1,3], name='ph')\n",
    "ph2 = tf.placeholder(dtype=tf.float32, shape=[2,3], name='ph')\n",
    "\n",
    "print('ph1:', ph1)\n",
    "print('ph2:', ph2)"
   ]
  },
  {
   "cell_type": "markdown",
   "metadata": {},
   "source": [
    "可以看出，placeholder也可以自动处理"
   ]
  },
  {
   "cell_type": "markdown",
   "metadata": {},
   "source": [
    "##### 1.5获取全部变量和trainable变量"
   ]
  },
  {
   "cell_type": "code",
   "execution_count": 7,
   "metadata": {},
   "outputs": [
    {
     "name": "stdout",
     "output_type": "stream",
     "text": [
      "0 <tf.Variable 'v:0' shape=(1,) dtype=float32_ref>\n",
      "1 <tf.Variable 'v_1:0' shape=(1,) dtype=float32_ref>\n",
      "2 <tf.Variable 'v_2:0' shape=(2,) dtype=float32_ref>\n",
      "3 <tf.Variable 'gv:0' shape=(2, 3) dtype=float32_ref>\n",
      "4 <tf.Variable 'var:0' shape=(1,) dtype=float32_ref>\n",
      "5 <tf.Variable 'var_1:0' shape=(2, 3) dtype=float32_ref>\n",
      "6 <tf.Variable 'var_2:0' shape=(1,) dtype=float32_ref>\n"
     ]
    }
   ],
   "source": [
    "all_vars = tf.global_variables()\n",
    "for i in range(len(all_vars)):\n",
    "    print(i, all_vars[i])"
   ]
  },
  {
   "cell_type": "code",
   "execution_count": 8,
   "metadata": {},
   "outputs": [
    {
     "name": "stdout",
     "output_type": "stream",
     "text": [
      "0 <tf.Variable 'v:0' shape=(1,) dtype=float32_ref>\n",
      "1 <tf.Variable 'v_1:0' shape=(1,) dtype=float32_ref>\n",
      "2 <tf.Variable 'v_2:0' shape=(2,) dtype=float32_ref>\n",
      "3 <tf.Variable 'gv:0' shape=(2, 3) dtype=float32_ref>\n",
      "4 <tf.Variable 'var_1:0' shape=(2, 3) dtype=float32_ref>\n",
      "5 <tf.Variable 'var_2:0' shape=(1,) dtype=float32_ref>\n"
     ]
    }
   ],
   "source": [
    "all_trainable_vars = tf.trainable_variables()\n",
    "for i in range(len(all_trainable_vars)):\n",
    "    print(i,all_trainable_vars[i])"
   ]
  },
  {
   "cell_type": "markdown",
   "metadata": {},
   "source": [
    "tf.global_variables()和tf.trainable_variables()用来获取所有变量和所有可训练的变量。\n",
    "这个后期会用到。比如，定义两个不同的优化器，各自优化部分参数，这个术后需要给他们传入各自需要优化的变量，这时候他们只优化list中的变量"
   ]
  },
  {
   "cell_type": "markdown",
   "metadata": {},
   "source": [
    "### 2.使用tf.name_scope()和tf.variable_scope()管理命名空间"
   ]
  },
  {
   "cell_type": "markdown",
   "metadata": {},
   "source": [
    "#### 2.1 使用tf.name_scope()"
   ]
  },
  {
   "cell_type": "code",
   "execution_count": 9,
   "metadata": {},
   "outputs": [],
   "source": [
    "with tf.name_scope('ns1') as ns:\n",
    "    ns_v1 = tf.Variable(initial_value=[1.0],name='V')\n",
    "    ns_gv1 = tf.get_variable(name='V',shape=[2,3])\n",
    "    ns_v2 = tf.Variable(initial_value=[1.0], name='V')"
   ]
  },
  {
   "cell_type": "code",
   "execution_count": 10,
   "metadata": {},
   "outputs": [
    {
     "name": "stdout",
     "output_type": "stream",
     "text": [
      "ns_v1 <tf.Variable 'ns1/V:0' shape=(1,) dtype=float32_ref>\n",
      "ns_gv1 <tf.Variable 'V:0' shape=(2, 3) dtype=float32_ref>\n",
      "ns_v2 <tf.Variable 'ns1/V_1:0' shape=(1,) dtype=float32_ref>\n"
     ]
    }
   ],
   "source": [
    "print('ns_v1', ns_v1)\n",
    "print('ns_gv1', ns_gv1)\n",
    "print('ns_v2', ns_v2)"
   ]
  },
  {
   "cell_type": "markdown",
   "metadata": {},
   "source": [
    "- tf.Variable创建的变量会自动在name前加上scope name\n",
    "- tf.get_variable创建的变量，不受name scope影响"
   ]
  },
  {
   "cell_type": "markdown",
   "metadata": {},
   "source": [
    "#### 2.2使用tf.variable_scope()"
   ]
  },
  {
   "cell_type": "code",
   "execution_count": 11,
   "metadata": {},
   "outputs": [
    {
     "name": "stdout",
     "output_type": "stream",
     "text": [
      "vs_v1 <tf.Variable 'vs1/v:0' shape=(1,) dtype=float32_ref>\n",
      "vs_gv1 <tf.Variable 'vs1/v_1:0' shape=(2, 3) dtype=float32_ref>\n"
     ]
    }
   ],
   "source": [
    "with tf.variable_scope('vs1') as vs:\n",
    "    vs_v1 = tf.Variable(initial_value=[1.0], name='v')\n",
    "    vs_gv1 = tf.get_variable(name='v', shape=[2,3])\n",
    "    # vs_gv2 = tf.get_variable(name='v', shape=[1,3])  # ValueError: Variable vs1/v already exists\n",
    "\n",
    "print('vs_v1', vs_v1)\n",
    "print('vs_gv1', vs_gv1)"
   ]
  },
  {
   "cell_type": "markdown",
   "metadata": {},
   "source": [
    "- 使用tf.Variable()创建的变量，会自动的在name前面加入variable scope name\n",
    "- 使用tf.get_variable创建的变量，也会自动地在name前加上variable scope name"
   ]
  },
  {
   "cell_type": "markdown",
   "metadata": {},
   "source": [
    "#### 2.3 tf.variable_scope()中设置reuse=True"
   ]
  },
  {
   "cell_type": "markdown",
   "metadata": {},
   "source": [
    "python中is用来判断是不是指向同一对象，==用来判断内容是否一致"
   ]
  },
  {
   "cell_type": "code",
   "execution_count": 12,
   "metadata": {},
   "outputs": [
    {
     "name": "stdout",
     "output_type": "stream",
     "text": [
      "a is b: False\n",
      "a is c: True\n",
      "a [555, 2, 3]\n",
      "b [1, 666, 3]\n",
      "c [555, 2, 3]\n"
     ]
    }
   ],
   "source": [
    "a = [1,2,3]\n",
    "b = [1,2,3]\n",
    "c = a\n",
    "print('a is b:', a is b)\n",
    "print('a is c:', a is c)\n",
    "c[0]=555\n",
    "b[1]=666\n",
    "print('a',a)\n",
    "print('b',b)\n",
    "print('c',c)"
   ]
  },
  {
   "cell_type": "markdown",
   "metadata": {},
   "source": [
    "tensorflow中，通过变量的name来区分不同对象，可以通过reuse实现变量共享"
   ]
  },
  {
   "cell_type": "code",
   "execution_count": 13,
   "metadata": {},
   "outputs": [
    {
     "name": "stdout",
     "output_type": "stream",
     "text": [
      "vs_gv2 <tf.Variable 'vs1/v2:0' shape=(2, 3) dtype=float32_ref>\n"
     ]
    }
   ],
   "source": [
    "with tf.variable_scope('vs1') as vs:\n",
    "    vs_gv2 = tf.get_variable(name='v2', shape=[2,3]) \n",
    "    # vs_gv3 = tf.get_variable(name='v', shape=[2,3])  # ValueError: Variable vs1/v already exists  \n",
    "    \n",
    "print('vs_gv2', vs_gv2)"
   ]
  },
  {
   "cell_type": "code",
   "execution_count": 14,
   "metadata": {},
   "outputs": [
    {
     "name": "stdout",
     "output_type": "stream",
     "text": [
      "vs_gv3 <tf.Variable 'vs1/v_1:0' shape=(2, 3) dtype=float32_ref>\n",
      "vs_gv3 is vs_gv1:  True\n"
     ]
    }
   ],
   "source": [
    "with tf.variable_scope('vs1', reuse=True) as vs:\n",
    "    vs_gv3 = tf.get_variable(name='v', shape=[2,3])  \n",
    "    \n",
    "print('vs_gv3', vs_gv3)\n",
    "print('vs_gv3 is vs_gv1: ', vs_gv3 is vs_gv1)"
   ]
  },
  {
   "cell_type": "markdown",
   "metadata": {},
   "source": [
    "当我们在同一个variable_scope下定义一个已经存在的变量name='V'时，需要设置reuse=true,指向同一对象"
   ]
  },
  {
   "cell_type": "markdown",
   "metadata": {},
   "source": [
    "### 3.总结"
   ]
  },
  {
   "cell_type": "markdown",
   "metadata": {},
   "source": [
    "一般建议通过tf.variable_scope()和tf.get_variable()一起进行变量管理和权值共享"
   ]
  },
  {
   "cell_type": "markdown",
   "metadata": {},
   "source": [
    "### 4.示例"
   ]
  },
  {
   "cell_type": "markdown",
   "metadata": {},
   "source": [
    "下面通过两个例子感受下命名管理"
   ]
  },
  {
   "cell_type": "code",
   "execution_count": 15,
   "metadata": {},
   "outputs": [],
   "source": [
    "def fc(X, out_size):\n",
    "    '''\n",
    "    全连接层\n",
    "    Args:\n",
    "        X: 2-D tensor [batch_size, in_size]\n",
    "        out_size: the size of output tensor\n",
    "    Returns:\n",
    "        h_fc: 2-D tensor, [batch_size, out_size]\n",
    "    '''\n",
    "    in_size = X.shape[1] # 特征维度\n",
    "    W = tf.get_variable('weight', shape=[in_size, out_size], initializer=tf.truncated_normal_initializer())\n",
    "    b = tf.get_variable('bias', [out_size], initializer=tf.zeros_initializer())\n",
    "    h_fc = tf.nn.relu(tf.nn.xw_plus_b(X, W, b), name='relu')\n",
    "    return h_fc"
   ]
  },
  {
   "cell_type": "markdown",
   "metadata": {},
   "source": [
    "#### 4.1 正确的例子"
   ]
  },
  {
   "cell_type": "code",
   "execution_count": 16,
   "metadata": {},
   "outputs": [
    {
     "name": "stdout",
     "output_type": "stream",
     "text": [
      "var 0:  <tf.Variable 'v:0' shape=(1,) dtype=float32_ref>\n",
      "var 1:  <tf.Variable 'v_1:0' shape=(1,) dtype=float32_ref>\n",
      "var 2:  <tf.Variable 'v_2:0' shape=(2,) dtype=float32_ref>\n",
      "var 3:  <tf.Variable 'gv:0' shape=(2, 3) dtype=float32_ref>\n",
      "var 4:  <tf.Variable 'var:0' shape=(1,) dtype=float32_ref>\n",
      "var 5:  <tf.Variable 'var_1:0' shape=(2, 3) dtype=float32_ref>\n",
      "var 6:  <tf.Variable 'var_2:0' shape=(1,) dtype=float32_ref>\n",
      "var 7:  <tf.Variable 'ns1/V:0' shape=(1,) dtype=float32_ref>\n",
      "var 8:  <tf.Variable 'V:0' shape=(2, 3) dtype=float32_ref>\n",
      "var 9:  <tf.Variable 'ns1/V_1:0' shape=(1,) dtype=float32_ref>\n",
      "var 10:  <tf.Variable 'vs1/v:0' shape=(1,) dtype=float32_ref>\n",
      "var 11:  <tf.Variable 'vs1/v_1:0' shape=(2, 3) dtype=float32_ref>\n",
      "var 12:  <tf.Variable 'vs1/v2:0' shape=(2, 3) dtype=float32_ref>\n",
      "var 13:  <tf.Variable 'fc1/weight:0' shape=(50, 64) dtype=float32_ref>\n",
      "var 14:  <tf.Variable 'fc1/bias:0' shape=(64,) dtype=float32_ref>\n",
      "var 15:  <tf.Variable 'fc2/weight:0' shape=(64, 32) dtype=float32_ref>\n",
      "var 16:  <tf.Variable 'fc2/bias:0' shape=(32,) dtype=float32_ref>\n"
     ]
    }
   ],
   "source": [
    "batch_size = 128\n",
    "feature_size = 50\n",
    "fc1_size = 64\n",
    "fc2_size = 32\n",
    "X_input = tf.placeholder(dtype=tf.float32, shape=[batch_size, feature_size], name='X_input')\n",
    "\n",
    "with tf.variable_scope('fc1') as vs:\n",
    "    h_fc1 = fc(X_input, out_size=fc1_size)\n",
    "with tf.variable_scope('fc2') as vs:\n",
    "    h_fc2 = fc(h_fc1, out_size=fc2_size)\n",
    "\n",
    "all_vars = tf.global_variables()\n",
    "for i in range(len(all_vars)):\n",
    "    print('var {}: '.format(i), all_vars[i])"
   ]
  },
  {
   "cell_type": "code",
   "execution_count": null,
   "metadata": {},
   "outputs": [],
   "source": []
  }
 ],
 "metadata": {
  "kernelspec": {
   "display_name": "Python 3",
   "language": "python",
   "name": "python3"
  },
  "language_info": {
   "codemirror_mode": {
    "name": "ipython",
    "version": 3
   },
   "file_extension": ".py",
   "mimetype": "text/x-python",
   "name": "python",
   "nbconvert_exporter": "python",
   "pygments_lexer": "ipython3",
   "version": "3.6.3"
  }
 },
 "nbformat": 4,
 "nbformat_minor": 2
}
