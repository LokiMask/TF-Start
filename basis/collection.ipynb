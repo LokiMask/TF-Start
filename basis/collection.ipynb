{
 "cells": [
  {
   "cell_type": "markdown",
   "metadata": {},
   "source": [
    "# Collection使用"
   ]
  },
  {
   "cell_type": "markdown",
   "metadata": {},
   "source": [
    "### 1.用collection来聚合变量"
   ]
  },
  {
   "cell_type": "markdown",
   "metadata": {},
   "source": [
    "神经网络中往往参数较多，有时需要对某些参数进行操作，除了通过变量名称获取参数外，tf中还可以通过collection进行操作(一般用于放置正则化项）"
   ]
  },
  {
   "cell_type": "code",
   "execution_count": 1,
   "metadata": {},
   "outputs": [],
   "source": [
    "import warnings\n",
    "warnings.filterwarnings('ignore')  # 不打印 warning \n",
    "\n",
    "import tensorflow as tf"
   ]
  },
  {
   "cell_type": "code",
   "execution_count": 2,
   "metadata": {},
   "outputs": [],
   "source": [
    "sess = tf.Session()"
   ]
  },
  {
   "cell_type": "code",
   "execution_count": 3,
   "metadata": {},
   "outputs": [
    {
     "name": "stdout",
     "output_type": "stream",
     "text": [
      "vars in col1: [<tf.Variable 'v1:0' shape=(3,) dtype=int32_ref>, <tf.Variable 'v3:0' shape=(2, 3) dtype=float32_ref>]\n"
     ]
    }
   ],
   "source": [
    "# 把变量添加到一个 collection 中\n",
    "v1 = tf.Variable([1,2,3], name='v1')\n",
    "v2 = tf.Variable([2], name='v2')\n",
    "v3 = tf.get_variable(name='v3', shape=(2,3))\n",
    "\n",
    "tf.add_to_collection('col1', v1) # 把 v1 添加到 col1 中\n",
    "tf.add_to_collection('col1', v3)\n",
    "\n",
    "col1s = tf.get_collection(key='col1')  # 获取 col1 的变量\n",
    "print('vars in col1:', col1s)"
   ]
  },
  {
   "cell_type": "markdown",
   "metadata": {},
   "source": [
    "操作同样也可以添加到集合中"
   ]
  },
  {
   "cell_type": "code",
   "execution_count": 4,
   "metadata": {},
   "outputs": [
    {
     "name": "stdout",
     "output_type": "stream",
     "text": [
      "vars in col1 [<tf.Variable 'v1:0' shape=(3,) dtype=int32_ref>, <tf.Variable 'v3:0' shape=(2, 3) dtype=float32_ref>, <tf.Tensor 'add_op:0' shape=(3,) dtype=int32>]\n"
     ]
    }
   ],
   "source": [
    "op1 = tf.add(v1, 2, name='add_op')\n",
    "tf.add_to_collection('col1', op1)\n",
    "colls = tf.get_collection(key=\n",
    "                         'col1')\n",
    "print('vars in col1', colls)"
   ]
  },
  {
   "cell_type": "markdown",
   "metadata": {},
   "source": [
    " 此外，还可以加上scope的约束"
   ]
  },
  {
   "cell_type": "code",
   "execution_count": 5,
   "metadata": {},
   "outputs": [
    {
     "name": "stdout",
     "output_type": "stream",
     "text": [
      "vars in col1 with scope=model [<tf.Variable 'model/v5:0' shape=(3,) dtype=int32_ref>]\n"
     ]
    }
   ],
   "source": [
    "with tf.variable_scope('model'):\n",
    "    v4 = tf.get_variable('v4', shape=[3,4])\n",
    "    v5 = tf.Variable([1,2,3], name='v5')\n",
    "\n",
    "tf.add_to_collection('col1', v5)\n",
    "coll_vars = tf.get_collection(key='col1', scope='model')\n",
    "print('vars in col1 with scope=model', coll_vars)"
   ]
  }
 ],
 "metadata": {
  "kernelspec": {
   "display_name": "Python 3",
   "language": "python",
   "name": "python3"
  },
  "language_info": {
   "codemirror_mode": {
    "name": "ipython",
    "version": 3
   },
   "file_extension": ".py",
   "mimetype": "text/x-python",
   "name": "python",
   "nbconvert_exporter": "python",
   "pygments_lexer": "ipython3",
   "version": "3.6.3"
  }
 },
 "nbformat": 4,
 "nbformat_minor": 2
}
