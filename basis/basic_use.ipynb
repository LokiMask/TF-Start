{
 "cells": [
  {
   "cell_type": "markdown",
   "metadata": {},
   "source": [
    "## 基本用法"
   ]
  },
  {
   "cell_type": "code",
   "execution_count": 1,
   "metadata": {},
   "outputs": [
    {
     "name": "stderr",
     "output_type": "stream",
     "text": [
      "/usr/lib/python3.6/importlib/_bootstrap.py:219: RuntimeWarning: compiletime version 3.5 of module 'tensorflow.python.framework.fast_tensor_util' does not match runtime version 3.6\n",
      "  return f(*args, **kwds)\n"
     ]
    },
    {
     "name": "stdout",
     "output_type": "stream",
     "text": [
      "1.4.0\n"
     ]
    }
   ],
   "source": [
    "import tensorflow as tf\n",
    "print(tf.__version__)"
   ]
  },
  {
   "cell_type": "markdown",
   "metadata": {},
   "source": [
    "### 1.变量，常量"
   ]
  },
  {
   "cell_type": "markdown",
   "metadata": {},
   "source": [
    "#### 1.1 变量"
   ]
  },
  {
   "cell_type": "code",
   "execution_count": 2,
   "metadata": {},
   "outputs": [
    {
     "name": "stdout",
     "output_type": "stream",
     "text": [
      "v1: <tf.Variable 'w1:0' shape=() dtype=float32_ref>\n",
      "v2: <tf.Variable 'w2:0' shape=(1,) dtype=float32_ref>\n",
      "v3: <tf.Variable 'Variable:0' shape=(2, 1) dtype=float32_ref>\n"
     ]
    }
   ],
   "source": [
    "v1 = tf.Variable(0.1, dtype=tf.float32, name='w1', trainable=False)\n",
    "v2 = tf.Variable([0.1], dtype=tf.float32, name='w2')\n",
    "v3 = tf.Variable([[0.1],[0.3]], dtype=tf.float32)\n",
    "print('v1:', v1)\n",
    "print('v2:', v2)\n",
    "print('v3:', v3)"
   ]
  },
  {
   "cell_type": "markdown",
   "metadata": {},
   "source": [
    "可以看出 变量包含三部分：\n",
    "- 第一部分是变量命名空间的名称，如‘w1:0'\n",
    "- 第二部分为shape\n",
    "- 第三部分是变量的类型"
   ]
  },
  {
   "cell_type": "code",
   "execution_count": 3,
   "metadata": {},
   "outputs": [],
   "source": [
    "init = tf.global_variables_initializer()#初始化\n",
    "sess = tf.Session()\n",
    "sess.run(init)"
   ]
  },
  {
   "cell_type": "code",
   "execution_count": 4,
   "metadata": {},
   "outputs": [
    {
     "name": "stdout",
     "output_type": "stream",
     "text": [
      "v1 0.1\n",
      "v2 [ 0.1]\n",
      "v3 [[ 0.1       ]\n",
      " [ 0.30000001]]\n"
     ]
    }
   ],
   "source": [
    "print('v1', sess.run(v1))\n",
    "print('v2', sess.run(v2))\n",
    "print('v3', sess.run(v3))"
   ]
  },
  {
   "cell_type": "markdown",
   "metadata": {},
   "source": [
    "由此可见，变量需要通过sess.run()才能看到值"
   ]
  },
  {
   "cell_type": "markdown",
   "metadata": {},
   "source": [
    "#### 1.2 常量"
   ]
  },
  {
   "cell_type": "code",
   "execution_count": 5,
   "metadata": {},
   "outputs": [
    {
     "name": "stdout",
     "output_type": "stream",
     "text": [
      "c1 Tensor(\"Const:0\", shape=(1,), dtype=float32)\n",
      "c2 Tensor(\"Const_1:0\", shape=(2,), dtype=float32)\n"
     ]
    }
   ],
   "source": [
    "c1 = tf.constant([1.0], dtype=tf.float32)\n",
    "c2 = tf.constant([1.0, 2.0], dtype=tf.float32)\n",
    "print('c1', c1)\n",
    "print('c2', c2)"
   ]
  },
  {
   "cell_type": "markdown",
   "metadata": {},
   "source": [
    "**NOTICE**:每次创建新的变量和常量都需要初始化之后才能使用"
   ]
  },
  {
   "cell_type": "code",
   "execution_count": 6,
   "metadata": {},
   "outputs": [],
   "source": [
    "sess = tf.Session()\n",
    "sess.run(init)"
   ]
  },
  {
   "cell_type": "code",
   "execution_count": 7,
   "metadata": {},
   "outputs": [
    {
     "name": "stdout",
     "output_type": "stream",
     "text": [
      "c1 [ 1.]\n",
      "c2 [ 1.  2.]\n"
     ]
    }
   ],
   "source": [
    "print('c1',sess.run(c1))\n",
    "print('c2',sess.run(c2))"
   ]
  },
  {
   "cell_type": "markdown",
   "metadata": {},
   "source": [
    "以上为tf中变量和常量的基础用法，而实际在编写网络代码时更多用tf.get_variable()来定义变量&tf.variable_scope()来管理命名空间"
   ]
  },
  {
   "cell_type": "markdown",
   "metadata": {},
   "source": [
    "#### 1.3 tf.get_variable()"
   ]
  },
  {
   "cell_type": "code",
   "execution_count": 8,
   "metadata": {},
   "outputs": [
    {
     "name": "stdout",
     "output_type": "stream",
     "text": [
      "w1 <tf.Variable 'w1_1:0' shape=(3, 4) dtype=float32_ref>\n",
      "b1 <tf.Variable 'b1:0' shape=(3, 1) dtype=float32_ref>\n"
     ]
    }
   ],
   "source": [
    "w1 = tf.get_variable(name='w1', shape=[3,4], initializer=tf.truncated_normal_initializer)#使用标准正态分布初始化\n",
    "b1 = tf.get_variable('b1', [3,1])\n",
    "print('w1', w1)\n",
    "print('b1', b1)"
   ]
  },
  {
   "cell_type": "markdown",
   "metadata": {},
   "source": [
    "tf.variable()创建变量一般需要提供三个参数：\n",
    "- name:tf中的变量常量都通过name来区分\n",
    "- shape:变量的形状\n",
    "- initializer:初始化函数,具体见https://www.tensorflow.org/api_docs/python/tf/initializers"
   ]
  },
  {
   "cell_type": "markdown",
   "metadata": {},
   "source": [
    "这里需要注意，再用get_variable()创建变量时，用已经存在的name就会报错"
   ]
  },
  {
   "cell_type": "code",
   "execution_count": 9,
   "metadata": {},
   "outputs": [
    {
     "ename": "ValueError",
     "evalue": "Variable w1 already exists, disallowed. Did you mean to set reuse=True or reuse=tf.AUTO_REUSE in VarScope? Originally defined at:\n\n  File \"<ipython-input-8-0073e0d42a05>\", line 1, in <module>\n    w1 = tf.get_variable(name='w1', shape=[3,4], initializer=tf.truncated_normal_initializer)#使用标准正态分布初始化\n  File \"/usr/local/lib/python3.6/dist-packages/IPython/core/interactiveshell.py\", line 2910, in run_code\n    exec(code_obj, self.user_global_ns, self.user_ns)\n  File \"/usr/local/lib/python3.6/dist-packages/IPython/core/interactiveshell.py\", line 2850, in run_ast_nodes\n    if self.run_code(code, result):\n",
     "output_type": "error",
     "traceback": [
      "\u001b[0;31m---------------------------------------------------------------------------\u001b[0m",
      "\u001b[0;31mValueError\u001b[0m                                Traceback (most recent call last)",
      "\u001b[0;32m<ipython-input-9-36f7f7f93d1a>\u001b[0m in \u001b[0;36m<module>\u001b[0;34m()\u001b[0m\n\u001b[0;32m----> 1\u001b[0;31m \u001b[0mw1_1\u001b[0m \u001b[0;34m=\u001b[0m \u001b[0mtf\u001b[0m\u001b[0;34m.\u001b[0m\u001b[0mget_variable\u001b[0m\u001b[0;34m(\u001b[0m\u001b[0mname\u001b[0m\u001b[0;34m=\u001b[0m\u001b[0;34m'w1'\u001b[0m\u001b[0;34m,\u001b[0m \u001b[0mshape\u001b[0m\u001b[0;34m=\u001b[0m\u001b[0;34m[\u001b[0m\u001b[0;36m1\u001b[0m\u001b[0;34m,\u001b[0m\u001b[0;36m2\u001b[0m\u001b[0;34m]\u001b[0m\u001b[0;34m)\u001b[0m\u001b[0;34m\u001b[0m\u001b[0m\n\u001b[0m",
      "\u001b[0;32m/usr/local/lib/python3.6/dist-packages/tensorflow/python/ops/variable_scope.py\u001b[0m in \u001b[0;36mget_variable\u001b[0;34m(name, shape, dtype, initializer, regularizer, trainable, collections, caching_device, partitioner, validate_shape, use_resource, custom_getter, constraint)\u001b[0m\n\u001b[1;32m   1201\u001b[0m       \u001b[0mpartitioner\u001b[0m\u001b[0;34m=\u001b[0m\u001b[0mpartitioner\u001b[0m\u001b[0;34m,\u001b[0m \u001b[0mvalidate_shape\u001b[0m\u001b[0;34m=\u001b[0m\u001b[0mvalidate_shape\u001b[0m\u001b[0;34m,\u001b[0m\u001b[0;34m\u001b[0m\u001b[0m\n\u001b[1;32m   1202\u001b[0m       \u001b[0muse_resource\u001b[0m\u001b[0;34m=\u001b[0m\u001b[0muse_resource\u001b[0m\u001b[0;34m,\u001b[0m \u001b[0mcustom_getter\u001b[0m\u001b[0;34m=\u001b[0m\u001b[0mcustom_getter\u001b[0m\u001b[0;34m,\u001b[0m\u001b[0;34m\u001b[0m\u001b[0m\n\u001b[0;32m-> 1203\u001b[0;31m       constraint=constraint)\n\u001b[0m\u001b[1;32m   1204\u001b[0m get_variable_or_local_docstring = (\n\u001b[1;32m   1205\u001b[0m     \"\"\"%s\n",
      "\u001b[0;32m/usr/local/lib/python3.6/dist-packages/tensorflow/python/ops/variable_scope.py\u001b[0m in \u001b[0;36mget_variable\u001b[0;34m(self, var_store, name, shape, dtype, initializer, regularizer, reuse, trainable, collections, caching_device, partitioner, validate_shape, use_resource, custom_getter, constraint)\u001b[0m\n\u001b[1;32m   1090\u001b[0m           \u001b[0mpartitioner\u001b[0m\u001b[0;34m=\u001b[0m\u001b[0mpartitioner\u001b[0m\u001b[0;34m,\u001b[0m \u001b[0mvalidate_shape\u001b[0m\u001b[0;34m=\u001b[0m\u001b[0mvalidate_shape\u001b[0m\u001b[0;34m,\u001b[0m\u001b[0;34m\u001b[0m\u001b[0m\n\u001b[1;32m   1091\u001b[0m           \u001b[0muse_resource\u001b[0m\u001b[0;34m=\u001b[0m\u001b[0muse_resource\u001b[0m\u001b[0;34m,\u001b[0m \u001b[0mcustom_getter\u001b[0m\u001b[0;34m=\u001b[0m\u001b[0mcustom_getter\u001b[0m\u001b[0;34m,\u001b[0m\u001b[0;34m\u001b[0m\u001b[0m\n\u001b[0;32m-> 1092\u001b[0;31m           constraint=constraint)\n\u001b[0m\u001b[1;32m   1093\u001b[0m \u001b[0;34m\u001b[0m\u001b[0m\n\u001b[1;32m   1094\u001b[0m   def _get_partitioned_variable(self,\n",
      "\u001b[0;32m/usr/local/lib/python3.6/dist-packages/tensorflow/python/ops/variable_scope.py\u001b[0m in \u001b[0;36mget_variable\u001b[0;34m(self, name, shape, dtype, initializer, regularizer, reuse, trainable, collections, caching_device, partitioner, validate_shape, use_resource, custom_getter, constraint)\u001b[0m\n\u001b[1;32m    423\u001b[0m           \u001b[0mcaching_device\u001b[0m\u001b[0;34m=\u001b[0m\u001b[0mcaching_device\u001b[0m\u001b[0;34m,\u001b[0m \u001b[0mpartitioner\u001b[0m\u001b[0;34m=\u001b[0m\u001b[0mpartitioner\u001b[0m\u001b[0;34m,\u001b[0m\u001b[0;34m\u001b[0m\u001b[0m\n\u001b[1;32m    424\u001b[0m           \u001b[0mvalidate_shape\u001b[0m\u001b[0;34m=\u001b[0m\u001b[0mvalidate_shape\u001b[0m\u001b[0;34m,\u001b[0m \u001b[0muse_resource\u001b[0m\u001b[0;34m=\u001b[0m\u001b[0muse_resource\u001b[0m\u001b[0;34m,\u001b[0m\u001b[0;34m\u001b[0m\u001b[0m\n\u001b[0;32m--> 425\u001b[0;31m           constraint=constraint)\n\u001b[0m\u001b[1;32m    426\u001b[0m \u001b[0;34m\u001b[0m\u001b[0m\n\u001b[1;32m    427\u001b[0m   def _get_partitioned_variable(\n",
      "\u001b[0;32m/usr/local/lib/python3.6/dist-packages/tensorflow/python/ops/variable_scope.py\u001b[0m in \u001b[0;36m_true_getter\u001b[0;34m(name, shape, dtype, initializer, regularizer, reuse, trainable, collections, caching_device, partitioner, validate_shape, use_resource, constraint)\u001b[0m\n\u001b[1;32m    392\u001b[0m           \u001b[0mtrainable\u001b[0m\u001b[0;34m=\u001b[0m\u001b[0mtrainable\u001b[0m\u001b[0;34m,\u001b[0m \u001b[0mcollections\u001b[0m\u001b[0;34m=\u001b[0m\u001b[0mcollections\u001b[0m\u001b[0;34m,\u001b[0m\u001b[0;34m\u001b[0m\u001b[0m\n\u001b[1;32m    393\u001b[0m           \u001b[0mcaching_device\u001b[0m\u001b[0;34m=\u001b[0m\u001b[0mcaching_device\u001b[0m\u001b[0;34m,\u001b[0m \u001b[0mvalidate_shape\u001b[0m\u001b[0;34m=\u001b[0m\u001b[0mvalidate_shape\u001b[0m\u001b[0;34m,\u001b[0m\u001b[0;34m\u001b[0m\u001b[0m\n\u001b[0;32m--> 394\u001b[0;31m           use_resource=use_resource, constraint=constraint)\n\u001b[0m\u001b[1;32m    395\u001b[0m \u001b[0;34m\u001b[0m\u001b[0m\n\u001b[1;32m    396\u001b[0m     \u001b[0;32mif\u001b[0m \u001b[0mcustom_getter\u001b[0m \u001b[0;32mis\u001b[0m \u001b[0;32mnot\u001b[0m \u001b[0;32mNone\u001b[0m\u001b[0;34m:\u001b[0m\u001b[0;34m\u001b[0m\u001b[0m\n",
      "\u001b[0;32m/usr/local/lib/python3.6/dist-packages/tensorflow/python/ops/variable_scope.py\u001b[0m in \u001b[0;36m_get_single_variable\u001b[0;34m(self, name, shape, dtype, initializer, regularizer, partition_info, reuse, trainable, collections, caching_device, validate_shape, use_resource, constraint)\u001b[0m\n\u001b[1;32m    740\u001b[0m                          \u001b[0;34m\"reuse=tf.AUTO_REUSE in VarScope? \"\u001b[0m\u001b[0;34m\u001b[0m\u001b[0m\n\u001b[1;32m    741\u001b[0m                          \"Originally defined at:\\n\\n%s\" % (\n\u001b[0;32m--> 742\u001b[0;31m                              name, \"\".join(traceback.format_list(tb))))\n\u001b[0m\u001b[1;32m    743\u001b[0m       \u001b[0mfound_var\u001b[0m \u001b[0;34m=\u001b[0m \u001b[0mself\u001b[0m\u001b[0;34m.\u001b[0m\u001b[0m_vars\u001b[0m\u001b[0;34m[\u001b[0m\u001b[0mname\u001b[0m\u001b[0;34m]\u001b[0m\u001b[0;34m\u001b[0m\u001b[0m\n\u001b[1;32m    744\u001b[0m       \u001b[0;32mif\u001b[0m \u001b[0;32mnot\u001b[0m \u001b[0mshape\u001b[0m\u001b[0;34m.\u001b[0m\u001b[0mis_compatible_with\u001b[0m\u001b[0;34m(\u001b[0m\u001b[0mfound_var\u001b[0m\u001b[0;34m.\u001b[0m\u001b[0mget_shape\u001b[0m\u001b[0;34m(\u001b[0m\u001b[0;34m)\u001b[0m\u001b[0;34m)\u001b[0m\u001b[0;34m:\u001b[0m\u001b[0;34m\u001b[0m\u001b[0m\n",
      "\u001b[0;31mValueError\u001b[0m: Variable w1 already exists, disallowed. Did you mean to set reuse=True or reuse=tf.AUTO_REUSE in VarScope? Originally defined at:\n\n  File \"<ipython-input-8-0073e0d42a05>\", line 1, in <module>\n    w1 = tf.get_variable(name='w1', shape=[3,4], initializer=tf.truncated_normal_initializer)#使用标准正态分布初始化\n  File \"/usr/local/lib/python3.6/dist-packages/IPython/core/interactiveshell.py\", line 2910, in run_code\n    exec(code_obj, self.user_global_ns, self.user_ns)\n  File \"/usr/local/lib/python3.6/dist-packages/IPython/core/interactiveshell.py\", line 2850, in run_ast_nodes\n    if self.run_code(code, result):\n"
     ]
    }
   ],
   "source": [
    "w1_1 = tf.get_variable(name='w1', shape=[1,2])"
   ]
  },
  {
   "cell_type": "markdown",
   "metadata": {},
   "source": [
    "#### 1.4 example"
   ]
  },
  {
   "cell_type": "markdown",
   "metadata": {},
   "source": [
    "tf 实现计数器"
   ]
  },
  {
   "cell_type": "code",
   "execution_count": 10,
   "metadata": {},
   "outputs": [
    {
     "name": "stdout",
     "output_type": "stream",
     "text": [
      "h_sum =  0.0\n",
      "vec =  [ 1.  2.  3.  4.]\n",
      "round 0: h_vec[0] = 1.0, h_sum = 1.0\n",
      "round 1: h_vec[1] = 2.0, h_sum = 3.0\n",
      "round 2: h_vec[2] = 3.0, h_sum = 6.0\n",
      "round 3: h_vec[3] = 4.0, h_sum = 10.0\n",
      "mean is  2.5\n"
     ]
    }
   ],
   "source": [
    "h_sum = tf.Variable(0.0, dtype=tf.float32)\n",
    "h_vec = tf.constant([1.0, 2.0, 3.0, 4.0])\n",
    "#将h_vec 的每个元素加入h_sum中，然后再除10计算平均值\n",
    "\n",
    "#待添加的数\n",
    "h_add = tf.placeholder(tf.float32)\n",
    "#添加之后的值\n",
    "h_new = tf.add(h_sum, h_add)\n",
    "#更新操作\n",
    "update = tf.assign(h_sum, h_new)\n",
    "\n",
    "sess.run(tf.global_variables_initializer())\n",
    "print(\"h_sum = \", sess.run(h_sum))\n",
    "print(\"vec = \", sess.run(h_vec))\n",
    "\n",
    "#循环添加\n",
    "for i in range(4):\n",
    "    sess.run(update, feed_dict={h_add: sess.run(h_vec[i])})\n",
    "    print('round {}: h_vec[{}] = {}, h_sum = {}'.format(i, i, sess.run(h_vec[i]), sess.run(h_sum)))\n",
    "print('mean is ', sess.run(h_sum) / 4.0)"
   ]
  },
  {
   "cell_type": "markdown",
   "metadata": {},
   "source": [
    "### 2.tf.placeholder和feed使用"
   ]
  },
  {
   "cell_type": "markdown",
   "metadata": {},
   "source": [
    "dnn中往往每次喂一个batch的数据，tf.placeholder()相当于占坑，数据传输时再填上.feed便是用来填的"
   ]
  },
  {
   "cell_type": "code",
   "execution_count": 14,
   "metadata": {},
   "outputs": [
    {
     "name": "stdout",
     "output_type": "stream",
     "text": [
      "input1 Tensor(\"Placeholder_7:0\", dtype=float32)\n",
      "input2 Tensor(\"Placeholder_8:0\", dtype=float32)\n",
      "output Tensor(\"Mul_2:0\", dtype=float32)\n"
     ]
    }
   ],
   "source": [
    "input1 = tf.placeholder(tf.float32)\n",
    "input2 = tf.placeholder(tf.float32)\n",
    "output = tf.multiply(input1,input2)\n",
    "print('input1', input1)\n",
    "print('input2', input2)\n",
    "print('output', output)"
   ]
  },
  {
   "cell_type": "code",
   "execution_count": 15,
   "metadata": {},
   "outputs": [
    {
     "name": "stdout",
     "output_type": "stream",
     "text": [
      "[array([ 14.], dtype=float32)]\n"
     ]
    }
   ],
   "source": [
    "#通过feed来填\n",
    "_out = sess.run([output], feed_dict={input1:[7.0], input2:[2.0]})\n",
    "print(_out)"
   ]
  },
  {
   "cell_type": "markdown",
   "metadata": {},
   "source": [
    "### 3.ML Example"
   ]
  },
  {
   "cell_type": "markdown",
   "metadata": {},
   "source": [
    "#### 3.1 平面拟合"
   ]
  },
  {
   "cell_type": "markdown",
   "metadata": {},
   "source": [
    "使用机器学习解决问题的一般过程：\n",
    "- 准备数据\n",
    "- 构造模型&设置求解的目标函数\n",
    "- 求解模型(train&test)"
   ]
  },
  {
   "cell_type": "code",
   "execution_count": 16,
   "metadata": {},
   "outputs": [
    {
     "name": "stdout",
     "output_type": "stream",
     "text": [
      "[ 0.77463984  0.12427549  0.21493888  0.04388439  0.49474135  0.75404918\n",
      "  0.87462831  0.03057274  0.85466731  0.18337816  0.32689741  0.66911238\n",
      "  0.26339647  0.42921576  0.83693451  0.47812223  0.2994943   0.13148302\n",
      "  0.99540311  0.98757297  0.18190409  0.6973896   0.20798697  0.45083043\n",
      "  0.67495275  0.40893334  0.01125957  0.1093651   0.20595351  0.37245834\n",
      "  0.50506932  0.7317034   0.26473927  0.63700938  0.24567333  0.31191087\n",
      "  0.64820659  0.78603238  0.77190173  0.52152503  0.0597645   0.69885945\n",
      "  0.68638712  0.09531285  0.23383185  0.2910485   0.76266712  0.72703564\n",
      "  0.53062725  0.06330738  0.64461118  0.49507803  0.7720443   0.82203037\n",
      "  0.35939887  0.21943769  0.69484264  0.66776341  0.04788187  0.89234167\n",
      "  0.76629901  0.76475036  0.34932181  0.0314347   0.55159682  0.54348516\n",
      "  0.65671158  0.11940552  0.29468071  0.92195159  0.76771116  0.27528629\n",
      "  0.11515832  0.37447324  0.41562486  0.33574048  0.53600216  0.71561396\n",
      "  0.69844222  0.4714956   0.14013027  0.85973853  0.27009326  0.81365418\n",
      "  0.58063602  0.83147752  0.29532889  0.7414884   0.41862798  0.04749141\n",
      "  0.81662381  0.87896895  0.96515542  0.19230931  0.07353594  0.50220013\n",
      "  0.62876385  0.3964144   0.2342032   0.97843838]\n",
      "[ 0.01125957  0.03057274  0.0314347   0.04388439  0.04749141  0.04788187\n",
      "  0.0597645   0.06330738  0.07353594  0.09531285  0.1093651   0.11515832\n",
      "  0.11940552  0.12427549  0.13148302  0.14013027  0.18190409  0.18337816\n",
      "  0.19230931  0.20595351  0.20798697  0.21493888  0.21943769  0.23383185\n",
      "  0.2342032   0.24567333  0.26339647  0.26473927  0.27009326  0.27528629\n",
      "  0.2910485   0.29468071  0.29532889  0.2994943   0.31191087  0.32689741\n",
      "  0.33574048  0.34932181  0.35939887  0.37245834  0.37447324  0.3964144\n",
      "  0.40893334  0.41562486  0.41862798  0.42921576  0.45083043  0.4714956\n",
      "  0.47812223  0.49474135  0.49507803  0.50220013  0.50506932  0.52152503\n",
      "  0.53062725  0.53600216  0.54348516  0.55159682  0.58063602  0.62876385\n",
      "  0.63700938  0.64461118  0.64820659  0.65671158  0.66776341  0.66911238\n",
      "  0.67495275  0.68638712  0.69484264  0.6973896   0.69844222  0.69885945\n",
      "  0.71561396  0.72703564  0.7317034   0.7414884   0.75404918  0.76266712\n",
      "  0.76475036  0.76629901  0.76771116  0.77190173  0.7720443   0.77463984\n",
      "  0.78603238  0.81365418  0.81662381  0.82203037  0.83147752  0.83693451\n",
      "  0.85466731  0.85973853  0.87462831  0.87896895  0.89234167  0.92195159\n",
      "  0.96515542  0.97843838  0.98757297  0.99540311]\n",
      "X.shape = (100, 1)\n",
      "y.shape = (100, 1)\n"
     ]
    }
   ],
   "source": [
    "import tensorflow as tf\n",
    "import numpy as np\n",
    "\n",
    "sess= tf.Session()\n",
    "\n",
    "#1.准备数据：使用numpy生成假数据，共100个点\n",
    "X = np.float32(np.random.rand(100)) #随机输入\n",
    "print(X)\n",
    "X = np.sort(X)\n",
    "print(X)\n",
    "y = np.dot(0.200, X**2) + 0.300 + np.random.randn(100) * 0.01 #np.dot 矩阵乘法，\n",
    "X = X.reshape([-1, 1])\n",
    "y = y.reshape([-1, 1])\n",
    "print('X.shape =', X.shape)\n",
    "print('y.shape =', y.shape)"
   ]
  },
  {
   "cell_type": "code",
   "execution_count": 18,
   "metadata": {},
   "outputs": [
    {
     "name": "stdout",
     "output_type": "stream",
     "text": [
      "0 [[-0.0896578]] [ 0.44933394]\n",
      "20 [[ 0.1290296]] [ 0.3258206]\n",
      "40 [[ 0.18262632]] [ 0.30762964]\n",
      "60 [[ 0.19491877]] [ 0.30345753]\n",
      "80 [[ 0.19773805]] [ 0.30250067]\n",
      "100 [[ 0.19838469]] [ 0.30228117]\n",
      "120 [[ 0.19853298]] [ 0.30223083]\n",
      "140 [[ 0.19856699]] [ 0.3022193]\n",
      "160 [[ 0.19857481]] [ 0.30221665]\n",
      "180 [[ 0.19857657]] [ 0.30221605]\n",
      "200 [[ 0.19857697]] [ 0.30221593]\n"
     ]
    }
   ],
   "source": [
    "#2. 构造一个线性模型\n",
    "b = tf.Variable(tf.zeros([1]))\n",
    "W = tf.Variable(tf.random_uniform([1, 1], -1.0, 1.0))\n",
    "y_pre = tf.matmul(X**2, W) + b\n",
    "\n",
    "#3. 求解模型\n",
    "loss = tf.reduce_mean(tf.square(y_pre - y))\n",
    "optimizer = tf.train.GradientDescentOptimizer(0.5)\n",
    "train = optimizer.minimize(loss)\n",
    "\n",
    "init = tf.global_variables_initializer()\n",
    "sess.run(init)\n",
    "\n",
    "#迭代，反复执行上面的最小化损失这一操作，拟合平面\n",
    "for step in range(0, 201):\n",
    "    sess.run(train)\n",
    "    if step % 20 == 0:\n",
    "        print(step, sess.run(W), sess.run(b))"
   ]
  },
  {
   "cell_type": "code",
   "execution_count": 19,
   "metadata": {},
   "outputs": [
    {
     "name": "stdout",
     "output_type": "stream",
     "text": [
      "y_pre [ 0.30224112  0.30240154  0.30241215  0.30259836  0.3026638   0.30267119\n",
      "  0.3029252   0.3030118   0.30328974  0.30401993  0.30459106  0.30484936\n",
      "  0.30504718  0.30528283  0.30564889  0.3061153   0.30878666  0.30889359\n",
      "  0.30955988  0.31063893]\n",
      "y_true [ 0.31878539  0.30582031  0.28289691  0.31312334  0.30960403  0.28251431\n",
      "  0.30074264  0.30232127  0.30203441  0.29258152  0.30699657  0.31030724\n",
      "  0.31071554  0.30298029  0.29123751  0.31766751  0.30515979  0.30621001\n",
      "  0.31399816  0.31193745]\n"
     ]
    }
   ],
   "source": [
    "y_pre = sess.run(y_pre)\n",
    "print('y_pre', y_pre.reshape([-1])[:20]) #预测值\n",
    "print('y_true', y.reshape([-1])[:20]) #真实值"
   ]
  },
  {
   "cell_type": "code",
   "execution_count": 20,
   "metadata": {},
   "outputs": [
    {
     "data": {
      "image/png": "[encoded data removed]",
      "text/plain": [
       "<matplotlib.figure.Figure at 0x7f223c2a86a0>"
      ]
     },
     "metadata": {},
     "output_type": "display_data"
    }
   ],
   "source": [
    "import matplotlib.pyplot as plt\n",
    "plt.plot(X, y, 'b.')\n",
    "plt.plot(X, y_pre, 'r-')\n",
    "plt.show()"
   ]
  },
  {
   "cell_type": "code",
   "execution_count": null,
   "metadata": {},
   "outputs": [],
   "source": []
  }
 ],
 "metadata": {
  "kernelspec": {
   "display_name": "Python 3",
   "language": "python",
   "name": "python3"
  },
  "language_info": {
   "codemirror_mode": {
    "name": "ipython",
    "version": 3
   },
   "file_extension": ".py",
   "mimetype": "text/x-python",
   "name": "python",
   "nbconvert_exporter": "python",
   "pygments_lexer": "ipython3",
   "version": "3.6.3"
  }
 },
 "nbformat": 4,
 "nbformat_minor": 2
}
